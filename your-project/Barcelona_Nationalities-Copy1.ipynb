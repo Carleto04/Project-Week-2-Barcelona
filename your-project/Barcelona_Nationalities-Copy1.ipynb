{
 "cells": [
  {
   "cell_type": "markdown",
   "metadata": {},
   "source": [
    "# Project-Week-2-Barcelona"
   ]
  },
  {
   "cell_type": "markdown",
   "metadata": {},
   "source": [
    "## Import Libraries"
   ]
  },
  {
   "cell_type": "code",
   "execution_count": 3,
   "metadata": {},
   "outputs": [],
   "source": [
    "import numpy as np\n",
    "import pandas as pd\n",
    "import matplotlib.pyplot as plt"
   ]
  },
  {
   "cell_type": "markdown",
   "metadata": {},
   "source": [
    "## Dataset observations"
   ]
  },
  {
   "cell_type": "markdown",
   "metadata": {},
   "source": [
    "<font color=blue>***Dataset is 2019_ine_nacionalitat_per_sexe.csv file***</font>"
   ]
  },
  {
   "cell_type": "code",
   "execution_count": 4,
   "metadata": {},
   "outputs": [],
   "source": [
    "data = pd.read_csv('../datasets/3.-population/2019_ine_nacionalitat_per_sexe.csv')"
   ]
  },
  {
   "cell_type": "code",
   "execution_count": 5,
   "metadata": {},
   "outputs": [
    {
     "data": {
      "text/html": [
       "<div>\n",
       "<style scoped>\n",
       "    .dataframe tbody tr th:only-of-type {\n",
       "        vertical-align: middle;\n",
       "    }\n",
       "\n",
       "    .dataframe tbody tr th {\n",
       "        vertical-align: top;\n",
       "    }\n",
       "\n",
       "    .dataframe thead th {\n",
       "        text-align: right;\n",
       "    }\n",
       "</style>\n",
       "<table border=\"1\" class=\"dataframe\">\n",
       "  <thead>\n",
       "    <tr style=\"text-align: right;\">\n",
       "      <th></th>\n",
       "      <th>Any</th>\n",
       "      <th>Codi_Districte</th>\n",
       "      <th>Nom_Districte</th>\n",
       "      <th>Codi_Barri</th>\n",
       "      <th>Nom_Barri</th>\n",
       "      <th>Sexe</th>\n",
       "      <th>Nacionalitat</th>\n",
       "      <th>Nombre</th>\n",
       "    </tr>\n",
       "  </thead>\n",
       "  <tbody>\n",
       "    <tr>\n",
       "      <th>0</th>\n",
       "      <td>2019</td>\n",
       "      <td>1</td>\n",
       "      <td>Ciutat Vella</td>\n",
       "      <td>1</td>\n",
       "      <td>el Raval</td>\n",
       "      <td>Dona</td>\n",
       "      <td>Espanya</td>\n",
       "      <td>11666</td>\n",
       "    </tr>\n",
       "    <tr>\n",
       "      <th>1</th>\n",
       "      <td>2019</td>\n",
       "      <td>1</td>\n",
       "      <td>Ciutat Vella</td>\n",
       "      <td>2</td>\n",
       "      <td>el Barri Gòtic</td>\n",
       "      <td>Dona</td>\n",
       "      <td>Espanya</td>\n",
       "      <td>4214</td>\n",
       "    </tr>\n",
       "    <tr>\n",
       "      <th>2</th>\n",
       "      <td>2019</td>\n",
       "      <td>1</td>\n",
       "      <td>Ciutat Vella</td>\n",
       "      <td>3</td>\n",
       "      <td>la Barceloneta</td>\n",
       "      <td>Dona</td>\n",
       "      <td>Espanya</td>\n",
       "      <td>4801</td>\n",
       "    </tr>\n",
       "    <tr>\n",
       "      <th>3</th>\n",
       "      <td>2019</td>\n",
       "      <td>1</td>\n",
       "      <td>Ciutat Vella</td>\n",
       "      <td>4</td>\n",
       "      <td>Sant Pere, Santa Caterina i la Ribera</td>\n",
       "      <td>Dona</td>\n",
       "      <td>Espanya</td>\n",
       "      <td>6570</td>\n",
       "    </tr>\n",
       "    <tr>\n",
       "      <th>4</th>\n",
       "      <td>2019</td>\n",
       "      <td>2</td>\n",
       "      <td>Eixample</td>\n",
       "      <td>5</td>\n",
       "      <td>el Fort Pienc</td>\n",
       "      <td>Dona</td>\n",
       "      <td>Espanya</td>\n",
       "      <td>13074</td>\n",
       "    </tr>\n",
       "    <tr>\n",
       "      <th>...</th>\n",
       "      <td>...</td>\n",
       "      <td>...</td>\n",
       "      <td>...</td>\n",
       "      <td>...</td>\n",
       "      <td>...</td>\n",
       "      <td>...</td>\n",
       "      <td>...</td>\n",
       "      <td>...</td>\n",
       "    </tr>\n",
       "    <tr>\n",
       "      <th>26275</th>\n",
       "      <td>2019</td>\n",
       "      <td>10</td>\n",
       "      <td>Sant Martí</td>\n",
       "      <td>69</td>\n",
       "      <td>Diagonal Mar i el Front Marítim del Poblenou</td>\n",
       "      <td>Home</td>\n",
       "      <td>Apàtrides</td>\n",
       "      <td>0</td>\n",
       "    </tr>\n",
       "    <tr>\n",
       "      <th>26276</th>\n",
       "      <td>2019</td>\n",
       "      <td>10</td>\n",
       "      <td>Sant Martí</td>\n",
       "      <td>70</td>\n",
       "      <td>el Besòs i el Maresme</td>\n",
       "      <td>Home</td>\n",
       "      <td>Apàtrides</td>\n",
       "      <td>1</td>\n",
       "    </tr>\n",
       "    <tr>\n",
       "      <th>26277</th>\n",
       "      <td>2019</td>\n",
       "      <td>10</td>\n",
       "      <td>Sant Martí</td>\n",
       "      <td>71</td>\n",
       "      <td>Provençals del Poblenou</td>\n",
       "      <td>Home</td>\n",
       "      <td>Apàtrides</td>\n",
       "      <td>0</td>\n",
       "    </tr>\n",
       "    <tr>\n",
       "      <th>26278</th>\n",
       "      <td>2019</td>\n",
       "      <td>10</td>\n",
       "      <td>Sant Martí</td>\n",
       "      <td>72</td>\n",
       "      <td>Sant Martí de Provençals</td>\n",
       "      <td>Home</td>\n",
       "      <td>Apàtrides</td>\n",
       "      <td>2</td>\n",
       "    </tr>\n",
       "    <tr>\n",
       "      <th>26279</th>\n",
       "      <td>2019</td>\n",
       "      <td>10</td>\n",
       "      <td>Sant Martí</td>\n",
       "      <td>73</td>\n",
       "      <td>la Verneda i la Pau</td>\n",
       "      <td>Home</td>\n",
       "      <td>Apàtrides</td>\n",
       "      <td>0</td>\n",
       "    </tr>\n",
       "  </tbody>\n",
       "</table>\n",
       "<p>26280 rows × 8 columns</p>\n",
       "</div>"
      ],
      "text/plain": [
       "        Any  Codi_Districte Nom_Districte  Codi_Barri  \\\n",
       "0      2019               1  Ciutat Vella           1   \n",
       "1      2019               1  Ciutat Vella           2   \n",
       "2      2019               1  Ciutat Vella           3   \n",
       "3      2019               1  Ciutat Vella           4   \n",
       "4      2019               2      Eixample           5   \n",
       "...     ...             ...           ...         ...   \n",
       "26275  2019              10    Sant Martí          69   \n",
       "26276  2019              10    Sant Martí          70   \n",
       "26277  2019              10    Sant Martí          71   \n",
       "26278  2019              10    Sant Martí          72   \n",
       "26279  2019              10    Sant Martí          73   \n",
       "\n",
       "                                          Nom_Barri  Sexe Nacionalitat  Nombre  \n",
       "0                                          el Raval  Dona      Espanya   11666  \n",
       "1                                    el Barri Gòtic  Dona      Espanya    4214  \n",
       "2                                    la Barceloneta  Dona      Espanya    4801  \n",
       "3             Sant Pere, Santa Caterina i la Ribera  Dona      Espanya    6570  \n",
       "4                                     el Fort Pienc  Dona      Espanya   13074  \n",
       "...                                             ...   ...          ...     ...  \n",
       "26275  Diagonal Mar i el Front Marítim del Poblenou  Home    Apàtrides       0  \n",
       "26276                         el Besòs i el Maresme  Home    Apàtrides       1  \n",
       "26277                       Provençals del Poblenou  Home    Apàtrides       0  \n",
       "26278                      Sant Martí de Provençals  Home    Apàtrides       2  \n",
       "26279                           la Verneda i la Pau  Home    Apàtrides       0  \n",
       "\n",
       "[26280 rows x 8 columns]"
      ]
     },
     "execution_count": 5,
     "metadata": {},
     "output_type": "execute_result"
    }
   ],
   "source": [
    "data"
   ]
  },
  {
   "cell_type": "markdown",
   "metadata": {},
   "source": [
    "- <font color=blue>***Dataset is in Catalan so headers and data to be translated while cleaning.***\n",
    "- ***No information on INE website about the meaning of the columns head***</font>"
   ]
  },
  {
   "cell_type": "code",
   "execution_count": 6,
   "metadata": {},
   "outputs": [
    {
     "name": "stdout",
     "output_type": "stream",
     "text": [
      "<class 'pandas.core.frame.DataFrame'>\n",
      "RangeIndex: 26280 entries, 0 to 26279\n",
      "Data columns (total 8 columns):\n",
      " #   Column          Non-Null Count  Dtype \n",
      "---  ------          --------------  ----- \n",
      " 0   Any             26280 non-null  int64 \n",
      " 1   Codi_Districte  26280 non-null  int64 \n",
      " 2   Nom_Districte   26280 non-null  object\n",
      " 3   Codi_Barri      26280 non-null  int64 \n",
      " 4   Nom_Barri       26280 non-null  object\n",
      " 5   Sexe            26280 non-null  object\n",
      " 6   Nacionalitat    26280 non-null  object\n",
      " 7   Nombre          26280 non-null  int64 \n",
      "dtypes: int64(4), object(4)\n",
      "memory usage: 1.2+ MB\n"
     ]
    }
   ],
   "source": [
    "data.info()"
   ]
  },
  {
   "cell_type": "markdown",
   "metadata": {},
   "source": [
    "- <font color=blue>***No NaN present in the dataset.***\n",
    "- ***8 columns: 4 are numeric & 4 are categorical***</font>"
   ]
  },
  {
   "cell_type": "markdown",
   "metadata": {},
   "source": [
    "### Numerical variables"
   ]
  },
  {
   "cell_type": "code",
   "execution_count": 7,
   "metadata": {},
   "outputs": [
    {
     "data": {
      "text/html": [
       "<div>\n",
       "<style scoped>\n",
       "    .dataframe tbody tr th:only-of-type {\n",
       "        vertical-align: middle;\n",
       "    }\n",
       "\n",
       "    .dataframe tbody tr th {\n",
       "        vertical-align: top;\n",
       "    }\n",
       "\n",
       "    .dataframe thead th {\n",
       "        text-align: right;\n",
       "    }\n",
       "</style>\n",
       "<table border=\"1\" class=\"dataframe\">\n",
       "  <thead>\n",
       "    <tr style=\"text-align: right;\">\n",
       "      <th></th>\n",
       "      <th>Any</th>\n",
       "      <th>Codi_Districte</th>\n",
       "      <th>Codi_Barri</th>\n",
       "      <th>Nombre</th>\n",
       "    </tr>\n",
       "  </thead>\n",
       "  <tbody>\n",
       "    <tr>\n",
       "      <th>count</th>\n",
       "      <td>26280.0</td>\n",
       "      <td>26280.000000</td>\n",
       "      <td>26280.000000</td>\n",
       "      <td>26280.000000</td>\n",
       "    </tr>\n",
       "    <tr>\n",
       "      <th>mean</th>\n",
       "      <td>2019.0</td>\n",
       "      <td>6.246575</td>\n",
       "      <td>37.000000</td>\n",
       "      <td>62.281659</td>\n",
       "    </tr>\n",
       "    <tr>\n",
       "      <th>std</th>\n",
       "      <td>0.0</td>\n",
       "      <td>2.788389</td>\n",
       "      <td>21.071708</td>\n",
       "      <td>805.497248</td>\n",
       "    </tr>\n",
       "    <tr>\n",
       "      <th>min</th>\n",
       "      <td>2019.0</td>\n",
       "      <td>1.000000</td>\n",
       "      <td>1.000000</td>\n",
       "      <td>0.000000</td>\n",
       "    </tr>\n",
       "    <tr>\n",
       "      <th>25%</th>\n",
       "      <td>2019.0</td>\n",
       "      <td>4.000000</td>\n",
       "      <td>19.000000</td>\n",
       "      <td>0.000000</td>\n",
       "    </tr>\n",
       "    <tr>\n",
       "      <th>50%</th>\n",
       "      <td>2019.0</td>\n",
       "      <td>7.000000</td>\n",
       "      <td>37.000000</td>\n",
       "      <td>0.000000</td>\n",
       "    </tr>\n",
       "    <tr>\n",
       "      <th>75%</th>\n",
       "      <td>2019.0</td>\n",
       "      <td>8.000000</td>\n",
       "      <td>55.000000</td>\n",
       "      <td>5.000000</td>\n",
       "    </tr>\n",
       "    <tr>\n",
       "      <th>max</th>\n",
       "      <td>2019.0</td>\n",
       "      <td>10.000000</td>\n",
       "      <td>73.000000</td>\n",
       "      <td>28002.000000</td>\n",
       "    </tr>\n",
       "  </tbody>\n",
       "</table>\n",
       "</div>"
      ],
      "text/plain": [
       "           Any  Codi_Districte    Codi_Barri        Nombre\n",
       "count  26280.0    26280.000000  26280.000000  26280.000000\n",
       "mean    2019.0        6.246575     37.000000     62.281659\n",
       "std        0.0        2.788389     21.071708    805.497248\n",
       "min     2019.0        1.000000      1.000000      0.000000\n",
       "25%     2019.0        4.000000     19.000000      0.000000\n",
       "50%     2019.0        7.000000     37.000000      0.000000\n",
       "75%     2019.0        8.000000     55.000000      5.000000\n",
       "max     2019.0       10.000000     73.000000  28002.000000"
      ]
     },
     "execution_count": 7,
     "metadata": {},
     "output_type": "execute_result"
    }
   ],
   "source": [
    "data.describe()"
   ]
  },
  {
   "cell_type": "code",
   "execution_count": 8,
   "metadata": {},
   "outputs": [
    {
     "data": {
      "image/png": "[encoded data removed]",
      "text/plain": [
       "<Figure size 432x288 with 4 Axes>"
      ]
     },
     "metadata": {
      "needs_background": "light"
     },
     "output_type": "display_data"
    }
   ],
   "source": [
    "data.hist()\n",
    "plt.show()"
   ]
  },
  {
   "cell_type": "markdown",
   "metadata": {},
   "source": [
    "#### Column: 'Any'"
   ]
  },
  {
   "cell_type": "markdown",
   "metadata": {},
   "source": [
    "- <font color = blue>***No variation in the 'year' column as the dataset refers to the living population of Barcelona on the first of January of 2019.***</font>\n",
    "- <font color = blue>***May be drop the column***</font>"
   ]
  },
  {
   "cell_type": "markdown",
   "metadata": {},
   "source": [
    "#### Column 'Codi_Districte'"
   ]
  },
  {
   "cell_type": "code",
   "execution_count": 9,
   "metadata": {},
   "outputs": [
    {
     "data": {
      "text/plain": [
       "Nom_Districte\n",
       "Ciutat Vella           0.0\n",
       "Eixample               0.0\n",
       "Gràcia                 0.0\n",
       "Horta-Guinardó         0.0\n",
       "Les Corts              0.0\n",
       "Nou Barris             0.0\n",
       "Sant Andreu            0.0\n",
       "Sant Martí             0.0\n",
       "Sants-Montjuïc         0.0\n",
       "Sarrià-Sant Gervasi    0.0\n",
       "Name: Codi_Districte, dtype: float64"
      ]
     },
     "execution_count": 9,
     "metadata": {},
     "output_type": "execute_result"
    }
   ],
   "source": [
    "data.groupby('Nom_Districte')['Codi_Districte'].std()"
   ]
  },
  {
   "cell_type": "markdown",
   "metadata": {},
   "source": [
    "- <font color = blue>***No variance of Codi_Districte inside each Nom_Districte***</font>\n",
    "- <font color = blue>***Codi_Districte seems to be a code to identify each Nom_Districte***</font>\n",
    "- <font color = blue>***May be useful to keep Codi_Districte to avoid encoding later or may be drop the column as the objective of the project doesn't need categorical data encoding***</font>"
   ]
  },
  {
   "cell_type": "markdown",
   "metadata": {},
   "source": [
    "#### Column 'Codi_Barri'"
   ]
  },
  {
   "cell_type": "code",
   "execution_count": 10,
   "metadata": {},
   "outputs": [
    {
     "data": {
      "text/plain": [
       "Nom_Barri\n",
       "Baró de Viver                    0.0\n",
       "Can Baró                         0.0\n",
       "Can Peguera                      0.0\n",
       "Canyelles                        0.0\n",
       "Ciutat Meridiana                 0.0\n",
       "                                ... \n",
       "la Vila Olímpica del Poblenou    0.0\n",
       "la Vila de Gràcia                0.0\n",
       "les Corts                        0.0\n",
       "les Roquetes                     0.0\n",
       "les Tres Torres                  0.0\n",
       "Name: Codi_Barri, Length: 73, dtype: float64"
      ]
     },
     "execution_count": 10,
     "metadata": {},
     "output_type": "execute_result"
    }
   ],
   "source": [
    "data.groupby('Nom_Barri')['Codi_Barri'].std()"
   ]
  },
  {
   "cell_type": "markdown",
   "metadata": {},
   "source": [
    "<font color = blue>***Same conclusions as Codi_Districte***</font>"
   ]
  },
  {
   "cell_type": "markdown",
   "metadata": {},
   "source": [
    "#### Column 'Nombre'"
   ]
  },
  {
   "cell_type": "code",
   "execution_count": 11,
   "metadata": {},
   "outputs": [
    {
     "data": {
      "text/plain": [
       "count    26280.000000\n",
       "mean        62.281659\n",
       "std        805.497248\n",
       "min          0.000000\n",
       "25%          0.000000\n",
       "50%          0.000000\n",
       "75%          5.000000\n",
       "max      28002.000000\n",
       "Name: Nombre, dtype: float64"
      ]
     },
     "execution_count": 11,
     "metadata": {},
     "output_type": "execute_result"
    }
   ],
   "source": [
    "data['Nombre'].describe()"
   ]
  },
  {
   "cell_type": "code",
   "execution_count": 12,
   "metadata": {},
   "outputs": [
    {
     "data": {
      "text/plain": [
       "Sexe  Nacionalitat          \n",
       "Dona  Afganistan                  18\n",
       "      Albània                    173\n",
       "      Alemanya                  3564\n",
       "      Algèria                    666\n",
       "      Altres països d'Europa       4\n",
       "                                ... \n",
       "Home  Xipre                       65\n",
       "      Zimbàbue                     4\n",
       "      Zàmbia                       2\n",
       "      Àustria                    344\n",
       "      Índia                     4825\n",
       "Name: Nombre, Length: 360, dtype: int64"
      ]
     },
     "execution_count": 12,
     "metadata": {},
     "output_type": "execute_result"
    }
   ],
   "source": [
    "data.groupby(['Sexe','Nacionalitat'])['Nombre'].sum()"
   ]
  },
  {
   "cell_type": "code",
   "execution_count": 13,
   "metadata": {},
   "outputs": [
    {
     "data": {
      "text/plain": [
       "Sexe  Nom_Districte      \n",
       "Dona  Ciutat Vella            48626\n",
       "      Eixample               141840\n",
       "      Gràcia                  65889\n",
       "      Horta-Guinardó          91052\n",
       "      Les Corts               43919\n",
       "      Nou Barris              90636\n",
       "      Sant Andreu             78733\n",
       "      Sant Martí             123722\n",
       "      Sants-Montjuïc          95950\n",
       "      Sarrià-Sant Gervasi     80776\n",
       "Home  Ciutat Vella            54803\n",
       "      Eixample               124070\n",
       "      Gràcia                  55909\n",
       "      Horta-Guinardó          80443\n",
       "      Les Corts               38055\n",
       "      Nou Barris              80033\n",
       "      Sant Andreu             71088\n",
       "      Sant Martí             114593\n",
       "      Sants-Montjuïc          88141\n",
       "      Sarrià-Sant Gervasi     68484\n",
       "Name: Nombre, dtype: int64"
      ]
     },
     "execution_count": 13,
     "metadata": {},
     "output_type": "execute_result"
    }
   ],
   "source": [
    "data.groupby(['Sexe','Nom_Districte'])['Nombre'].sum()"
   ]
  },
  {
   "cell_type": "markdown",
   "metadata": {},
   "source": [
    "<font color = blue>***'Nombre' column seems to be the quantity of resident for the given gender, district, neighborhood and nationality***</font>"
   ]
  },
  {
   "cell_type": "markdown",
   "metadata": {},
   "source": [
    "### Categorical variables"
   ]
  },
  {
   "cell_type": "markdown",
   "metadata": {},
   "source": [
    "#### 'Nom_Districte' column"
   ]
  },
  {
   "cell_type": "code",
   "execution_count": 14,
   "metadata": {},
   "outputs": [
    {
     "data": {
      "text/plain": [
       "Nou Barris             4680\n",
       "Horta-Guinardó         3960\n",
       "Sant Martí             3600\n",
       "Sants-Montjuïc         2880\n",
       "Sant Andreu            2520\n",
       "Sarrià-Sant Gervasi    2160\n",
       "Eixample               2160\n",
       "Gràcia                 1800\n",
       "Ciutat Vella           1440\n",
       "Les Corts              1080\n",
       "Name: Nom_Districte, dtype: int64"
      ]
     },
     "execution_count": 14,
     "metadata": {},
     "output_type": "execute_result"
    }
   ],
   "source": [
    "data['Nom_Districte'].value_counts()"
   ]
  },
  {
   "cell_type": "code",
   "execution_count": 15,
   "metadata": {},
   "outputs": [
    {
     "data": {
      "text/plain": [
       "10"
      ]
     },
     "execution_count": 15,
     "metadata": {},
     "output_type": "execute_result"
    }
   ],
   "source": [
    "len(data['Nom_Districte'].unique().tolist())"
   ]
  },
  {
   "cell_type": "markdown",
   "metadata": {},
   "source": [
    "- <font color = blue>***10 unique districts are present in the dataset***</font>\n",
    "- <font color = blue>***The 10 districts are homogeneously represented***</font>"
   ]
  },
  {
   "cell_type": "markdown",
   "metadata": {},
   "source": [
    "#### 'Nom_Barri' column"
   ]
  },
  {
   "cell_type": "code",
   "execution_count": 16,
   "metadata": {},
   "outputs": [
    {
     "data": {
      "text/plain": [
       "array(['el Raval', 'el Barri Gòtic', 'la Barceloneta',\n",
       "       'Sant Pere, Santa Caterina i la Ribera', 'el Fort Pienc',\n",
       "       'la Sagrada Família', \"la Dreta de l'Eixample\",\n",
       "       \"l'Antiga Esquerra de l'Eixample\",\n",
       "       \"la Nova Esquerra de l'Eixample\", 'Sant Antoni', 'el Poble Sec',\n",
       "       'la Marina del Prat Vermell', 'la Marina de Port',\n",
       "       'la Font de la Guatlla', 'Hostafrancs', 'la Bordeta',\n",
       "       'Sants - Badal', 'Sants', 'les Corts',\n",
       "       'la Maternitat i Sant Ramon', 'Pedralbes',\n",
       "       'Vallvidrera, el Tibidabo i les Planes', 'Sarrià',\n",
       "       'les Tres Torres', 'Sant Gervasi - la Bonanova',\n",
       "       'Sant Gervasi - Galvany', 'el Putxet i el Farró',\n",
       "       'Vallcarca i els Penitents', 'el Coll', 'la Salut',\n",
       "       'la Vila de Gràcia', \"el Camp d'en Grassot i Gràcia Nova\",\n",
       "       'el Baix Guinardó', 'Can Baró', 'el Guinardó',\n",
       "       \"la Font d'en Fargues\", 'el Carmel', 'la Teixonera',\n",
       "       'Sant Genís dels Agudells', 'Montbau', \"la Vall d'Hebron\",\n",
       "       'la Clota', 'Horta', 'Vilapicina i la Torre Llobeta', 'Porta',\n",
       "       'el Turó de la Peira', 'Can Peguera', 'la Guineueta', 'Canyelles',\n",
       "       'les Roquetes', 'Verdun', 'la Prosperitat', 'la Trinitat Nova',\n",
       "       'Torre Baró', 'Ciutat Meridiana', 'Vallbona', 'la Trinitat Vella',\n",
       "       'Baró de Viver', 'el Bon Pastor', 'Sant Andreu', 'la Sagrera',\n",
       "       'el Congrés i els Indians', 'Navas', \"el Camp de l'Arpa del Clot\",\n",
       "       'el Clot', 'el Parc i la Llacuna del Poblenou',\n",
       "       'la Vila Olímpica del Poblenou', 'el Poblenou',\n",
       "       'Diagonal Mar i el Front Marítim del Poblenou',\n",
       "       'el Besòs i el Maresme', 'Provençals del Poblenou',\n",
       "       'Sant Martí de Provençals', 'la Verneda i la Pau'], dtype=object)"
      ]
     },
     "execution_count": 16,
     "metadata": {},
     "output_type": "execute_result"
    }
   ],
   "source": [
    "data['Nom_Barri'].unique()"
   ]
  },
  {
   "cell_type": "code",
   "execution_count": 17,
   "metadata": {},
   "outputs": [
    {
     "data": {
      "text/plain": [
       "73"
      ]
     },
     "execution_count": 17,
     "metadata": {},
     "output_type": "execute_result"
    }
   ],
   "source": [
    "len(data['Nom_Barri'].unique())"
   ]
  },
  {
   "cell_type": "code",
   "execution_count": 18,
   "metadata": {},
   "outputs": [
    {
     "data": {
      "text/plain": [
       "Nom_Districte\n",
       "Ciutat Vella            4\n",
       "Eixample                6\n",
       "Gràcia                  5\n",
       "Horta-Guinardó         11\n",
       "Les Corts               3\n",
       "Nou Barris             13\n",
       "Sant Andreu             7\n",
       "Sant Martí             10\n",
       "Sants-Montjuïc          8\n",
       "Sarrià-Sant Gervasi     6\n",
       "Name: Nom_Barri, dtype: int64"
      ]
     },
     "execution_count": 18,
     "metadata": {},
     "output_type": "execute_result"
    }
   ],
   "source": [
    "data.groupby('Nom_Districte')['Nom_Barri'].nunique()"
   ]
  },
  {
   "cell_type": "code",
   "execution_count": 19,
   "metadata": {},
   "outputs": [
    {
     "data": {
      "text/plain": [
       "Nom_Districte\n",
       "Ciutat Vella           [el Raval, el Barri Gòtic, la Barceloneta, San...\n",
       "Eixample               [el Fort Pienc, la Sagrada Família, la Dreta d...\n",
       "Gràcia                 [Vallcarca i els Penitents, el Coll, la Salut,...\n",
       "Horta-Guinardó         [el Baix Guinardó, Can Baró, el Guinardó, la F...\n",
       "Les Corts              [les Corts, la Maternitat i Sant Ramon, Pedral...\n",
       "Nou Barris             [Vilapicina i la Torre Llobeta, Porta, el Turó...\n",
       "Sant Andreu            [la Trinitat Vella, Baró de Viver, el Bon Past...\n",
       "Sant Martí             [el Camp de l'Arpa del Clot, el Clot, el Parc ...\n",
       "Sants-Montjuïc         [el Poble Sec, la Marina del Prat Vermell, la ...\n",
       "Sarrià-Sant Gervasi    [Vallvidrera, el Tibidabo i les Planes, Sarrià...\n",
       "Name: Nom_Barri, dtype: object"
      ]
     },
     "execution_count": 19,
     "metadata": {},
     "output_type": "execute_result"
    }
   ],
   "source": [
    "data.groupby('Nom_Districte')['Nom_Barri'].unique()"
   ]
  },
  {
   "cell_type": "markdown",
   "metadata": {},
   "source": [
    "- <font color = blue>***There are 73 different neighborhoods in Barcelona***</font>\n",
    "- <font color = blue>***Some District have more then 10 neighborhoods***</font>\n",
    "- <font color = blue>***Might be wise to focus on District rather than neighborhood to answer the questions***</font>"
   ]
  },
  {
   "cell_type": "markdown",
   "metadata": {},
   "source": [
    "#### Column 'Sexe'"
   ]
  },
  {
   "cell_type": "code",
   "execution_count": 20,
   "metadata": {},
   "outputs": [
    {
     "data": {
      "text/plain": [
       "Sexe\n",
       "Dona    13140\n",
       "Home    13140\n",
       "Name: Nombre, dtype: int64"
      ]
     },
     "execution_count": 20,
     "metadata": {},
     "output_type": "execute_result"
    }
   ],
   "source": [
    "data.groupby(['Sexe'])['Nombre'].count()"
   ]
  },
  {
   "cell_type": "markdown",
   "metadata": {},
   "source": [
    "- <font color = blue>***We have an equal number of male and female which seems strange***</font>\n",
    "- <font color = blue>***Column head and categories of the column to be translated and renamed***</font>"
   ]
  },
  {
   "cell_type": "markdown",
   "metadata": {},
   "source": [
    "#### Column 'Nacionalitat'"
   ]
  },
  {
   "cell_type": "code",
   "execution_count": 21,
   "metadata": {},
   "outputs": [
    {
     "data": {
      "text/plain": [
       "Nacionalitat\n",
       "Afganistan                 9\n",
       "Albània                   13\n",
       "Alemanya                  80\n",
       "Algèria                   35\n",
       "Altres països d'Europa     3\n",
       "                          ..\n",
       "Xipre                      8\n",
       "Zimbàbue                   2\n",
       "Zàmbia                     3\n",
       "Àustria                   23\n",
       "Índia                     75\n",
       "Name: Nombre, Length: 180, dtype: int64"
      ]
     },
     "execution_count": 21,
     "metadata": {},
     "output_type": "execute_result"
    }
   ],
   "source": [
    "data.groupby('Nacionalitat')['Nombre'].nunique()"
   ]
  },
  {
   "cell_type": "markdown",
   "metadata": {},
   "source": [
    "- <font color = blue>***Seems we have 180 different nationalities living in Barcelona***</font>\n",
    "- <font color = blue>***Column head and nationalities to be translated in proper english***</font>\n",
    "- <font color = blue>***May be focus on the top 10 of the nationalities represented in Barcelona to answer the questions***</font>\n",
    "- <font color = blue>***In this case, drop the other nationalities from the dataset***</font>"
   ]
  },
  {
   "cell_type": "code",
   "execution_count": 22,
   "metadata": {},
   "outputs": [
    {
     "data": {
      "text/plain": [
       "Nacionalitat\n",
       "Espanya       1316380\n",
       "Itàlia          34287\n",
       "Xina            21327\n",
       "Pakistan        20437\n",
       "França          15757\n",
       "Marroc, el      14269\n",
       "Colòmbia        11796\n",
       "Hondures        11593\n",
       "Perú            10240\n",
       "Veneçuela       10012\n",
       "Name: Nombre, dtype: int64"
      ]
     },
     "execution_count": 22,
     "metadata": {},
     "output_type": "execute_result"
    }
   ],
   "source": [
    "data.groupby('Nacionalitat')['Nombre'].sum().nlargest(10)"
   ]
  },
  {
   "cell_type": "markdown",
   "metadata": {},
   "source": [
    "## Dataset cleaning"
   ]
  },
  {
   "cell_type": "markdown",
   "metadata": {},
   "source": [
    "### Create a copy of the original dataset"
   ]
  },
  {
   "cell_type": "code",
   "execution_count": 23,
   "metadata": {},
   "outputs": [],
   "source": [
    "df_nat = data.copy()"
   ]
  },
  {
   "cell_type": "markdown",
   "metadata": {},
   "source": [
    "### Drop unwanted columns: 'Any', 'Codi_Barri', 'Codi_Districte'"
   ]
  },
  {
   "cell_type": "code",
   "execution_count": 24,
   "metadata": {},
   "outputs": [
    {
     "data": {
      "text/html": [
       "<div>\n",
       "<style scoped>\n",
       "    .dataframe tbody tr th:only-of-type {\n",
       "        vertical-align: middle;\n",
       "    }\n",
       "\n",
       "    .dataframe tbody tr th {\n",
       "        vertical-align: top;\n",
       "    }\n",
       "\n",
       "    .dataframe thead th {\n",
       "        text-align: right;\n",
       "    }\n",
       "</style>\n",
       "<table border=\"1\" class=\"dataframe\">\n",
       "  <thead>\n",
       "    <tr style=\"text-align: right;\">\n",
       "      <th></th>\n",
       "      <th>Nom_Districte</th>\n",
       "      <th>Nom_Barri</th>\n",
       "      <th>Sexe</th>\n",
       "      <th>Nacionalitat</th>\n",
       "      <th>Nombre</th>\n",
       "    </tr>\n",
       "  </thead>\n",
       "  <tbody>\n",
       "    <tr>\n",
       "      <th>0</th>\n",
       "      <td>Ciutat Vella</td>\n",
       "      <td>el Raval</td>\n",
       "      <td>Dona</td>\n",
       "      <td>Espanya</td>\n",
       "      <td>11666</td>\n",
       "    </tr>\n",
       "    <tr>\n",
       "      <th>1</th>\n",
       "      <td>Ciutat Vella</td>\n",
       "      <td>el Barri Gòtic</td>\n",
       "      <td>Dona</td>\n",
       "      <td>Espanya</td>\n",
       "      <td>4214</td>\n",
       "    </tr>\n",
       "    <tr>\n",
       "      <th>2</th>\n",
       "      <td>Ciutat Vella</td>\n",
       "      <td>la Barceloneta</td>\n",
       "      <td>Dona</td>\n",
       "      <td>Espanya</td>\n",
       "      <td>4801</td>\n",
       "    </tr>\n",
       "    <tr>\n",
       "      <th>3</th>\n",
       "      <td>Ciutat Vella</td>\n",
       "      <td>Sant Pere, Santa Caterina i la Ribera</td>\n",
       "      <td>Dona</td>\n",
       "      <td>Espanya</td>\n",
       "      <td>6570</td>\n",
       "    </tr>\n",
       "    <tr>\n",
       "      <th>4</th>\n",
       "      <td>Eixample</td>\n",
       "      <td>el Fort Pienc</td>\n",
       "      <td>Dona</td>\n",
       "      <td>Espanya</td>\n",
       "      <td>13074</td>\n",
       "    </tr>\n",
       "  </tbody>\n",
       "</table>\n",
       "</div>"
      ],
      "text/plain": [
       "  Nom_Districte                              Nom_Barri  Sexe Nacionalitat  \\\n",
       "0  Ciutat Vella                               el Raval  Dona      Espanya   \n",
       "1  Ciutat Vella                         el Barri Gòtic  Dona      Espanya   \n",
       "2  Ciutat Vella                         la Barceloneta  Dona      Espanya   \n",
       "3  Ciutat Vella  Sant Pere, Santa Caterina i la Ribera  Dona      Espanya   \n",
       "4      Eixample                          el Fort Pienc  Dona      Espanya   \n",
       "\n",
       "   Nombre  \n",
       "0   11666  \n",
       "1    4214  \n",
       "2    4801  \n",
       "3    6570  \n",
       "4   13074  "
      ]
     },
     "execution_count": 24,
     "metadata": {},
     "output_type": "execute_result"
    }
   ],
   "source": [
    "df_nat = data.drop(['Any', 'Codi_Barri', 'Codi_Districte'],axis=1)\n",
    "df_nat.head()"
   ]
  },
  {
   "cell_type": "markdown",
   "metadata": {},
   "source": [
    "### Rename columns header"
   ]
  },
  {
   "cell_type": "code",
   "execution_count": 25,
   "metadata": {},
   "outputs": [
    {
     "data": {
      "text/plain": [
       "['Nom_Districte', 'Nom_Barri', 'Sexe', 'Nacionalitat', 'Nombre']"
      ]
     },
     "execution_count": 25,
     "metadata": {},
     "output_type": "execute_result"
    }
   ],
   "source": [
    "df_nat.columns.tolist()"
   ]
  },
  {
   "cell_type": "code",
   "execution_count": 26,
   "metadata": {},
   "outputs": [],
   "source": [
    "col_names = ['District_Name', 'Neighbor_Name', 'Gender', 'Nationality', 'Residents_numb']\n",
    "df_nat.columns = col_names"
   ]
  },
  {
   "cell_type": "code",
   "execution_count": 27,
   "metadata": {},
   "outputs": [
    {
     "data": {
      "text/html": [
       "<div>\n",
       "<style scoped>\n",
       "    .dataframe tbody tr th:only-of-type {\n",
       "        vertical-align: middle;\n",
       "    }\n",
       "\n",
       "    .dataframe tbody tr th {\n",
       "        vertical-align: top;\n",
       "    }\n",
       "\n",
       "    .dataframe thead th {\n",
       "        text-align: right;\n",
       "    }\n",
       "</style>\n",
       "<table border=\"1\" class=\"dataframe\">\n",
       "  <thead>\n",
       "    <tr style=\"text-align: right;\">\n",
       "      <th></th>\n",
       "      <th>District_Name</th>\n",
       "      <th>Neighbor_Name</th>\n",
       "      <th>Gender</th>\n",
       "      <th>Nationality</th>\n",
       "      <th>Residents_numb</th>\n",
       "    </tr>\n",
       "  </thead>\n",
       "  <tbody>\n",
       "    <tr>\n",
       "      <th>0</th>\n",
       "      <td>Ciutat Vella</td>\n",
       "      <td>el Raval</td>\n",
       "      <td>Dona</td>\n",
       "      <td>Espanya</td>\n",
       "      <td>11666</td>\n",
       "    </tr>\n",
       "    <tr>\n",
       "      <th>1</th>\n",
       "      <td>Ciutat Vella</td>\n",
       "      <td>el Barri Gòtic</td>\n",
       "      <td>Dona</td>\n",
       "      <td>Espanya</td>\n",
       "      <td>4214</td>\n",
       "    </tr>\n",
       "    <tr>\n",
       "      <th>2</th>\n",
       "      <td>Ciutat Vella</td>\n",
       "      <td>la Barceloneta</td>\n",
       "      <td>Dona</td>\n",
       "      <td>Espanya</td>\n",
       "      <td>4801</td>\n",
       "    </tr>\n",
       "    <tr>\n",
       "      <th>3</th>\n",
       "      <td>Ciutat Vella</td>\n",
       "      <td>Sant Pere, Santa Caterina i la Ribera</td>\n",
       "      <td>Dona</td>\n",
       "      <td>Espanya</td>\n",
       "      <td>6570</td>\n",
       "    </tr>\n",
       "    <tr>\n",
       "      <th>4</th>\n",
       "      <td>Eixample</td>\n",
       "      <td>el Fort Pienc</td>\n",
       "      <td>Dona</td>\n",
       "      <td>Espanya</td>\n",
       "      <td>13074</td>\n",
       "    </tr>\n",
       "  </tbody>\n",
       "</table>\n",
       "</div>"
      ],
      "text/plain": [
       "  District_Name                          Neighbor_Name Gender Nationality  \\\n",
       "0  Ciutat Vella                               el Raval   Dona     Espanya   \n",
       "1  Ciutat Vella                         el Barri Gòtic   Dona     Espanya   \n",
       "2  Ciutat Vella                         la Barceloneta   Dona     Espanya   \n",
       "3  Ciutat Vella  Sant Pere, Santa Caterina i la Ribera   Dona     Espanya   \n",
       "4      Eixample                          el Fort Pienc   Dona     Espanya   \n",
       "\n",
       "   Residents_numb  \n",
       "0           11666  \n",
       "1            4214  \n",
       "2            4801  \n",
       "3            6570  \n",
       "4           13074  "
      ]
     },
     "execution_count": 27,
     "metadata": {},
     "output_type": "execute_result"
    }
   ],
   "source": [
    "df_nat.head()"
   ]
  },
  {
   "cell_type": "markdown",
   "metadata": {},
   "source": [
    "### Drop Nationalities that are not in top 10"
   ]
  },
  {
   "cell_type": "code",
   "execution_count": 28,
   "metadata": {},
   "outputs": [],
   "source": [
    "top_nations = df_nat.groupby('Nationality')['Residents_numb'].sum().nlargest(10)"
   ]
  },
  {
   "cell_type": "code",
   "execution_count": 29,
   "metadata": {},
   "outputs": [
    {
     "data": {
      "text/plain": [
       "['Espanya',\n",
       " 'Itàlia',\n",
       " 'Xina',\n",
       " 'Pakistan',\n",
       " 'França',\n",
       " 'Marroc, el',\n",
       " 'Colòmbia',\n",
       " 'Hondures',\n",
       " 'Perú',\n",
       " 'Veneçuela']"
      ]
     },
     "execution_count": 29,
     "metadata": {},
     "output_type": "execute_result"
    }
   ],
   "source": [
    "top_nations = list(top_nations.index)\n",
    "top_nations"
   ]
  },
  {
   "cell_type": "code",
   "execution_count": 30,
   "metadata": {},
   "outputs": [
    {
     "data": {
      "text/html": [
       "<div>\n",
       "<style scoped>\n",
       "    .dataframe tbody tr th:only-of-type {\n",
       "        vertical-align: middle;\n",
       "    }\n",
       "\n",
       "    .dataframe tbody tr th {\n",
       "        vertical-align: top;\n",
       "    }\n",
       "\n",
       "    .dataframe thead th {\n",
       "        text-align: right;\n",
       "    }\n",
       "</style>\n",
       "<table border=\"1\" class=\"dataframe\">\n",
       "  <thead>\n",
       "    <tr style=\"text-align: right;\">\n",
       "      <th></th>\n",
       "      <th>District_Name</th>\n",
       "      <th>Neighbor_Name</th>\n",
       "      <th>Gender</th>\n",
       "      <th>Nationality</th>\n",
       "      <th>Residents_numb</th>\n",
       "    </tr>\n",
       "  </thead>\n",
       "  <tbody>\n",
       "    <tr>\n",
       "      <th>0</th>\n",
       "      <td>Ciutat Vella</td>\n",
       "      <td>el Raval</td>\n",
       "      <td>Dona</td>\n",
       "      <td>Espanya</td>\n",
       "      <td>11666</td>\n",
       "    </tr>\n",
       "    <tr>\n",
       "      <th>1</th>\n",
       "      <td>Ciutat Vella</td>\n",
       "      <td>el Barri Gòtic</td>\n",
       "      <td>Dona</td>\n",
       "      <td>Espanya</td>\n",
       "      <td>4214</td>\n",
       "    </tr>\n",
       "    <tr>\n",
       "      <th>2</th>\n",
       "      <td>Ciutat Vella</td>\n",
       "      <td>la Barceloneta</td>\n",
       "      <td>Dona</td>\n",
       "      <td>Espanya</td>\n",
       "      <td>4801</td>\n",
       "    </tr>\n",
       "    <tr>\n",
       "      <th>3</th>\n",
       "      <td>Ciutat Vella</td>\n",
       "      <td>Sant Pere, Santa Caterina i la Ribera</td>\n",
       "      <td>Dona</td>\n",
       "      <td>Espanya</td>\n",
       "      <td>6570</td>\n",
       "    </tr>\n",
       "    <tr>\n",
       "      <th>4</th>\n",
       "      <td>Eixample</td>\n",
       "      <td>el Fort Pienc</td>\n",
       "      <td>Dona</td>\n",
       "      <td>Espanya</td>\n",
       "      <td>13074</td>\n",
       "    </tr>\n",
       "    <tr>\n",
       "      <th>...</th>\n",
       "      <td>...</td>\n",
       "      <td>...</td>\n",
       "      <td>...</td>\n",
       "      <td>...</td>\n",
       "      <td>...</td>\n",
       "    </tr>\n",
       "    <tr>\n",
       "      <th>22917</th>\n",
       "      <td>Sant Martí</td>\n",
       "      <td>Diagonal Mar i el Front Marítim del Poblenou</td>\n",
       "      <td>Home</td>\n",
       "      <td>Pakistan</td>\n",
       "      <td>36</td>\n",
       "    </tr>\n",
       "    <tr>\n",
       "      <th>22918</th>\n",
       "      <td>Sant Martí</td>\n",
       "      <td>el Besòs i el Maresme</td>\n",
       "      <td>Home</td>\n",
       "      <td>Pakistan</td>\n",
       "      <td>1667</td>\n",
       "    </tr>\n",
       "    <tr>\n",
       "      <th>22919</th>\n",
       "      <td>Sant Martí</td>\n",
       "      <td>Provençals del Poblenou</td>\n",
       "      <td>Home</td>\n",
       "      <td>Pakistan</td>\n",
       "      <td>115</td>\n",
       "    </tr>\n",
       "    <tr>\n",
       "      <th>22920</th>\n",
       "      <td>Sant Martí</td>\n",
       "      <td>Sant Martí de Provençals</td>\n",
       "      <td>Home</td>\n",
       "      <td>Pakistan</td>\n",
       "      <td>86</td>\n",
       "    </tr>\n",
       "    <tr>\n",
       "      <th>22921</th>\n",
       "      <td>Sant Martí</td>\n",
       "      <td>la Verneda i la Pau</td>\n",
       "      <td>Home</td>\n",
       "      <td>Pakistan</td>\n",
       "      <td>145</td>\n",
       "    </tr>\n",
       "  </tbody>\n",
       "</table>\n",
       "<p>1460 rows × 5 columns</p>\n",
       "</div>"
      ],
      "text/plain": [
       "      District_Name                                 Neighbor_Name Gender  \\\n",
       "0      Ciutat Vella                                      el Raval   Dona   \n",
       "1      Ciutat Vella                                el Barri Gòtic   Dona   \n",
       "2      Ciutat Vella                                la Barceloneta   Dona   \n",
       "3      Ciutat Vella         Sant Pere, Santa Caterina i la Ribera   Dona   \n",
       "4          Eixample                                 el Fort Pienc   Dona   \n",
       "...             ...                                           ...    ...   \n",
       "22917    Sant Martí  Diagonal Mar i el Front Marítim del Poblenou   Home   \n",
       "22918    Sant Martí                         el Besòs i el Maresme   Home   \n",
       "22919    Sant Martí                       Provençals del Poblenou   Home   \n",
       "22920    Sant Martí                      Sant Martí de Provençals   Home   \n",
       "22921    Sant Martí                           la Verneda i la Pau   Home   \n",
       "\n",
       "      Nationality  Residents_numb  \n",
       "0         Espanya           11666  \n",
       "1         Espanya            4214  \n",
       "2         Espanya            4801  \n",
       "3         Espanya            6570  \n",
       "4         Espanya           13074  \n",
       "...           ...             ...  \n",
       "22917    Pakistan              36  \n",
       "22918    Pakistan            1667  \n",
       "22919    Pakistan             115  \n",
       "22920    Pakistan              86  \n",
       "22921    Pakistan             145  \n",
       "\n",
       "[1460 rows x 5 columns]"
      ]
     },
     "execution_count": 30,
     "metadata": {},
     "output_type": "execute_result"
    }
   ],
   "source": [
    "df_nat = df_nat[df_nat['Nationality'].isin(top_nations)]\n",
    "df_nat"
   ]
  },
  {
   "cell_type": "code",
   "execution_count": 31,
   "metadata": {},
   "outputs": [
    {
     "data": {
      "text/plain": [
       "array(['Espanya', 'Itàlia', 'França', 'Marroc, el', 'Colòmbia',\n",
       "       'Hondures', 'Perú', 'Veneçuela', 'Xina', 'Pakistan'], dtype=object)"
      ]
     },
     "execution_count": 31,
     "metadata": {},
     "output_type": "execute_result"
    }
   ],
   "source": [
    "df_nat['Nationality'].unique()"
   ]
  },
  {
   "cell_type": "markdown",
   "metadata": {},
   "source": [
    "### Rename categories in 'Nationalities'"
   ]
  },
  {
   "cell_type": "code",
   "execution_count": 32,
   "metadata": {},
   "outputs": [],
   "source": [
    "df_nat['Nationality'] = df_nat['Nationality'].astype(dtype='category')"
   ]
  },
  {
   "cell_type": "code",
   "execution_count": 33,
   "metadata": {},
   "outputs": [
    {
     "data": {
      "text/plain": [
       "Index(['Colòmbia', 'Espanya', 'França', 'Hondures', 'Itàlia', 'Marroc, el',\n",
       "       'Pakistan', 'Perú', 'Veneçuela', 'Xina'],\n",
       "      dtype='object')"
      ]
     },
     "execution_count": 33,
     "metadata": {},
     "output_type": "execute_result"
    }
   ],
   "source": [
    "df_nat['Nationality'].cat.categories"
   ]
  },
  {
   "cell_type": "code",
   "execution_count": 34,
   "metadata": {},
   "outputs": [],
   "source": [
    "df_nat['Nationality'] = df_nat['Nationality'].replace(['Colòmbia', 'Espanya', 'França', 'Hondures', 'Itàlia', 'Marroc, el',\n",
    "       'Pakistan', 'Perú', 'Veneçuela', 'Xina'],['Colombia', 'Spain', 'France', 'Honduras', 'Italy', 'Morocco',\n",
    "       'Pakistan', 'Peru', 'Venezuela', 'China'])"
   ]
  },
  {
   "cell_type": "code",
   "execution_count": 35,
   "metadata": {},
   "outputs": [
    {
     "data": {
      "text/html": [
       "<div>\n",
       "<style scoped>\n",
       "    .dataframe tbody tr th:only-of-type {\n",
       "        vertical-align: middle;\n",
       "    }\n",
       "\n",
       "    .dataframe tbody tr th {\n",
       "        vertical-align: top;\n",
       "    }\n",
       "\n",
       "    .dataframe thead th {\n",
       "        text-align: right;\n",
       "    }\n",
       "</style>\n",
       "<table border=\"1\" class=\"dataframe\">\n",
       "  <thead>\n",
       "    <tr style=\"text-align: right;\">\n",
       "      <th></th>\n",
       "      <th>District_Name</th>\n",
       "      <th>Neighbor_Name</th>\n",
       "      <th>Gender</th>\n",
       "      <th>Nationality</th>\n",
       "      <th>Residents_numb</th>\n",
       "    </tr>\n",
       "  </thead>\n",
       "  <tbody>\n",
       "    <tr>\n",
       "      <th>0</th>\n",
       "      <td>Ciutat Vella</td>\n",
       "      <td>el Raval</td>\n",
       "      <td>Dona</td>\n",
       "      <td>Spain</td>\n",
       "      <td>11666</td>\n",
       "    </tr>\n",
       "    <tr>\n",
       "      <th>1</th>\n",
       "      <td>Ciutat Vella</td>\n",
       "      <td>el Barri Gòtic</td>\n",
       "      <td>Dona</td>\n",
       "      <td>Spain</td>\n",
       "      <td>4214</td>\n",
       "    </tr>\n",
       "    <tr>\n",
       "      <th>2</th>\n",
       "      <td>Ciutat Vella</td>\n",
       "      <td>la Barceloneta</td>\n",
       "      <td>Dona</td>\n",
       "      <td>Spain</td>\n",
       "      <td>4801</td>\n",
       "    </tr>\n",
       "    <tr>\n",
       "      <th>3</th>\n",
       "      <td>Ciutat Vella</td>\n",
       "      <td>Sant Pere, Santa Caterina i la Ribera</td>\n",
       "      <td>Dona</td>\n",
       "      <td>Spain</td>\n",
       "      <td>6570</td>\n",
       "    </tr>\n",
       "    <tr>\n",
       "      <th>4</th>\n",
       "      <td>Eixample</td>\n",
       "      <td>el Fort Pienc</td>\n",
       "      <td>Dona</td>\n",
       "      <td>Spain</td>\n",
       "      <td>13074</td>\n",
       "    </tr>\n",
       "    <tr>\n",
       "      <th>...</th>\n",
       "      <td>...</td>\n",
       "      <td>...</td>\n",
       "      <td>...</td>\n",
       "      <td>...</td>\n",
       "      <td>...</td>\n",
       "    </tr>\n",
       "    <tr>\n",
       "      <th>22917</th>\n",
       "      <td>Sant Martí</td>\n",
       "      <td>Diagonal Mar i el Front Marítim del Poblenou</td>\n",
       "      <td>Home</td>\n",
       "      <td>Pakistan</td>\n",
       "      <td>36</td>\n",
       "    </tr>\n",
       "    <tr>\n",
       "      <th>22918</th>\n",
       "      <td>Sant Martí</td>\n",
       "      <td>el Besòs i el Maresme</td>\n",
       "      <td>Home</td>\n",
       "      <td>Pakistan</td>\n",
       "      <td>1667</td>\n",
       "    </tr>\n",
       "    <tr>\n",
       "      <th>22919</th>\n",
       "      <td>Sant Martí</td>\n",
       "      <td>Provençals del Poblenou</td>\n",
       "      <td>Home</td>\n",
       "      <td>Pakistan</td>\n",
       "      <td>115</td>\n",
       "    </tr>\n",
       "    <tr>\n",
       "      <th>22920</th>\n",
       "      <td>Sant Martí</td>\n",
       "      <td>Sant Martí de Provençals</td>\n",
       "      <td>Home</td>\n",
       "      <td>Pakistan</td>\n",
       "      <td>86</td>\n",
       "    </tr>\n",
       "    <tr>\n",
       "      <th>22921</th>\n",
       "      <td>Sant Martí</td>\n",
       "      <td>la Verneda i la Pau</td>\n",
       "      <td>Home</td>\n",
       "      <td>Pakistan</td>\n",
       "      <td>145</td>\n",
       "    </tr>\n",
       "  </tbody>\n",
       "</table>\n",
       "<p>1460 rows × 5 columns</p>\n",
       "</div>"
      ],
      "text/plain": [
       "      District_Name                                 Neighbor_Name Gender  \\\n",
       "0      Ciutat Vella                                      el Raval   Dona   \n",
       "1      Ciutat Vella                                el Barri Gòtic   Dona   \n",
       "2      Ciutat Vella                                la Barceloneta   Dona   \n",
       "3      Ciutat Vella         Sant Pere, Santa Caterina i la Ribera   Dona   \n",
       "4          Eixample                                 el Fort Pienc   Dona   \n",
       "...             ...                                           ...    ...   \n",
       "22917    Sant Martí  Diagonal Mar i el Front Marítim del Poblenou   Home   \n",
       "22918    Sant Martí                         el Besòs i el Maresme   Home   \n",
       "22919    Sant Martí                       Provençals del Poblenou   Home   \n",
       "22920    Sant Martí                      Sant Martí de Provençals   Home   \n",
       "22921    Sant Martí                           la Verneda i la Pau   Home   \n",
       "\n",
       "      Nationality  Residents_numb  \n",
       "0           Spain           11666  \n",
       "1           Spain            4214  \n",
       "2           Spain            4801  \n",
       "3           Spain            6570  \n",
       "4           Spain           13074  \n",
       "...           ...             ...  \n",
       "22917    Pakistan              36  \n",
       "22918    Pakistan            1667  \n",
       "22919    Pakistan             115  \n",
       "22920    Pakistan              86  \n",
       "22921    Pakistan             145  \n",
       "\n",
       "[1460 rows x 5 columns]"
      ]
     },
     "execution_count": 35,
     "metadata": {},
     "output_type": "execute_result"
    }
   ],
   "source": [
    "df_nat"
   ]
  },
  {
   "cell_type": "markdown",
   "metadata": {},
   "source": [
    "### Rename categories in 'Gender'"
   ]
  },
  {
   "cell_type": "code",
   "execution_count": 36,
   "metadata": {},
   "outputs": [
    {
     "data": {
      "text/html": [
       "<div>\n",
       "<style scoped>\n",
       "    .dataframe tbody tr th:only-of-type {\n",
       "        vertical-align: middle;\n",
       "    }\n",
       "\n",
       "    .dataframe tbody tr th {\n",
       "        vertical-align: top;\n",
       "    }\n",
       "\n",
       "    .dataframe thead th {\n",
       "        text-align: right;\n",
       "    }\n",
       "</style>\n",
       "<table border=\"1\" class=\"dataframe\">\n",
       "  <thead>\n",
       "    <tr style=\"text-align: right;\">\n",
       "      <th></th>\n",
       "      <th>District_Name</th>\n",
       "      <th>Neighbor_Name</th>\n",
       "      <th>Gender</th>\n",
       "      <th>Nationality</th>\n",
       "      <th>Residents_numb</th>\n",
       "    </tr>\n",
       "  </thead>\n",
       "  <tbody>\n",
       "    <tr>\n",
       "      <th>0</th>\n",
       "      <td>Ciutat Vella</td>\n",
       "      <td>el Raval</td>\n",
       "      <td>Female</td>\n",
       "      <td>Spain</td>\n",
       "      <td>11666</td>\n",
       "    </tr>\n",
       "    <tr>\n",
       "      <th>1</th>\n",
       "      <td>Ciutat Vella</td>\n",
       "      <td>el Barri Gòtic</td>\n",
       "      <td>Female</td>\n",
       "      <td>Spain</td>\n",
       "      <td>4214</td>\n",
       "    </tr>\n",
       "    <tr>\n",
       "      <th>2</th>\n",
       "      <td>Ciutat Vella</td>\n",
       "      <td>la Barceloneta</td>\n",
       "      <td>Female</td>\n",
       "      <td>Spain</td>\n",
       "      <td>4801</td>\n",
       "    </tr>\n",
       "    <tr>\n",
       "      <th>3</th>\n",
       "      <td>Ciutat Vella</td>\n",
       "      <td>Sant Pere, Santa Caterina i la Ribera</td>\n",
       "      <td>Female</td>\n",
       "      <td>Spain</td>\n",
       "      <td>6570</td>\n",
       "    </tr>\n",
       "    <tr>\n",
       "      <th>4</th>\n",
       "      <td>Eixample</td>\n",
       "      <td>el Fort Pienc</td>\n",
       "      <td>Female</td>\n",
       "      <td>Spain</td>\n",
       "      <td>13074</td>\n",
       "    </tr>\n",
       "    <tr>\n",
       "      <th>...</th>\n",
       "      <td>...</td>\n",
       "      <td>...</td>\n",
       "      <td>...</td>\n",
       "      <td>...</td>\n",
       "      <td>...</td>\n",
       "    </tr>\n",
       "    <tr>\n",
       "      <th>22917</th>\n",
       "      <td>Sant Martí</td>\n",
       "      <td>Diagonal Mar i el Front Marítim del Poblenou</td>\n",
       "      <td>Male</td>\n",
       "      <td>Pakistan</td>\n",
       "      <td>36</td>\n",
       "    </tr>\n",
       "    <tr>\n",
       "      <th>22918</th>\n",
       "      <td>Sant Martí</td>\n",
       "      <td>el Besòs i el Maresme</td>\n",
       "      <td>Male</td>\n",
       "      <td>Pakistan</td>\n",
       "      <td>1667</td>\n",
       "    </tr>\n",
       "    <tr>\n",
       "      <th>22919</th>\n",
       "      <td>Sant Martí</td>\n",
       "      <td>Provençals del Poblenou</td>\n",
       "      <td>Male</td>\n",
       "      <td>Pakistan</td>\n",
       "      <td>115</td>\n",
       "    </tr>\n",
       "    <tr>\n",
       "      <th>22920</th>\n",
       "      <td>Sant Martí</td>\n",
       "      <td>Sant Martí de Provençals</td>\n",
       "      <td>Male</td>\n",
       "      <td>Pakistan</td>\n",
       "      <td>86</td>\n",
       "    </tr>\n",
       "    <tr>\n",
       "      <th>22921</th>\n",
       "      <td>Sant Martí</td>\n",
       "      <td>la Verneda i la Pau</td>\n",
       "      <td>Male</td>\n",
       "      <td>Pakistan</td>\n",
       "      <td>145</td>\n",
       "    </tr>\n",
       "  </tbody>\n",
       "</table>\n",
       "<p>1460 rows × 5 columns</p>\n",
       "</div>"
      ],
      "text/plain": [
       "      District_Name                                 Neighbor_Name  Gender  \\\n",
       "0      Ciutat Vella                                      el Raval  Female   \n",
       "1      Ciutat Vella                                el Barri Gòtic  Female   \n",
       "2      Ciutat Vella                                la Barceloneta  Female   \n",
       "3      Ciutat Vella         Sant Pere, Santa Caterina i la Ribera  Female   \n",
       "4          Eixample                                 el Fort Pienc  Female   \n",
       "...             ...                                           ...     ...   \n",
       "22917    Sant Martí  Diagonal Mar i el Front Marítim del Poblenou    Male   \n",
       "22918    Sant Martí                         el Besòs i el Maresme    Male   \n",
       "22919    Sant Martí                       Provençals del Poblenou    Male   \n",
       "22920    Sant Martí                      Sant Martí de Provençals    Male   \n",
       "22921    Sant Martí                           la Verneda i la Pau    Male   \n",
       "\n",
       "      Nationality  Residents_numb  \n",
       "0           Spain           11666  \n",
       "1           Spain            4214  \n",
       "2           Spain            4801  \n",
       "3           Spain            6570  \n",
       "4           Spain           13074  \n",
       "...           ...             ...  \n",
       "22917    Pakistan              36  \n",
       "22918    Pakistan            1667  \n",
       "22919    Pakistan             115  \n",
       "22920    Pakistan              86  \n",
       "22921    Pakistan             145  \n",
       "\n",
       "[1460 rows x 5 columns]"
      ]
     },
     "execution_count": 36,
     "metadata": {},
     "output_type": "execute_result"
    }
   ],
   "source": [
    "df_nat['Gender'] = df_nat['Gender'].replace(['Dona','Home'],['Female','Male'])\n",
    "df_nat"
   ]
  },
  {
   "cell_type": "code",
   "execution_count": 37,
   "metadata": {},
   "outputs": [
    {
     "name": "stdout",
     "output_type": "stream",
     "text": [
      "<class 'pandas.core.frame.DataFrame'>\n",
      "Int64Index: 1460 entries, 0 to 22921\n",
      "Data columns (total 5 columns):\n",
      " #   Column          Non-Null Count  Dtype \n",
      "---  ------          --------------  ----- \n",
      " 0   District_Name   1460 non-null   object\n",
      " 1   Neighbor_Name   1460 non-null   object\n",
      " 2   Gender          1460 non-null   object\n",
      " 3   Nationality     1460 non-null   object\n",
      " 4   Residents_numb  1460 non-null   int64 \n",
      "dtypes: int64(1), object(4)\n",
      "memory usage: 45.6+ KB\n"
     ]
    }
   ],
   "source": [
    "df_nat.info()"
   ]
  },
  {
   "cell_type": "markdown",
   "metadata": {},
   "source": [
    "## Dataset analysis"
   ]
  },
  {
   "cell_type": "markdown",
   "metadata": {},
   "source": [
    "### Question 1: What are the top3 spoken languages in Barcelona (supposing each nationality has only one exclusive official language)?"
   ]
  },
  {
   "cell_type": "code",
   "execution_count": 38,
   "metadata": {},
   "outputs": [
    {
     "data": {
      "text/plain": [
       "Nationality\n",
       "Spain       1316380\n",
       "Italy         34287\n",
       "China         21327\n",
       "Pakistan      20437\n",
       "Name: Residents_numb, dtype: int64"
      ]
     },
     "execution_count": 38,
     "metadata": {},
     "output_type": "execute_result"
    }
   ],
   "source": [
    "df_nat.groupby('Nationality')['Residents_numb'].sum().nlargest(4)"
   ]
  },
  {
   "cell_type": "markdown",
   "metadata": {},
   "source": [
    "<font color = blue>***Assuming each nationality speaks only one language, the top 3 languages spoken in Barcelona area (after Spanish and Catalan) are Italian, Chineese and Punjabi***</font>"
   ]
  },
  {
   "cell_type": "markdown",
   "metadata": {},
   "source": [
    "### Question 2: Where is Chinatown in Barcelona?"
   ]
  },
  {
   "cell_type": "code",
   "execution_count": 39,
   "metadata": {},
   "outputs": [],
   "source": [
    "chinatown = df_nat[df_nat['Nationality']==\"China\"].groupby('District_Name')['Residents_numb'].sum()"
   ]
  },
  {
   "cell_type": "code",
   "execution_count": 40,
   "metadata": {},
   "outputs": [
    {
     "data": {
      "text/plain": [
       "District_Name\n",
       "Eixample               5897\n",
       "Sant Martí             4205\n",
       "Sants-Montjuïc         2900\n",
       "Sant Andreu            1968\n",
       "Nou Barris             1765\n",
       "Horta-Guinardó         1128\n",
       "Gràcia                  968\n",
       "Ciutat Vella            868\n",
       "Les Corts               861\n",
       "Sarrià-Sant Gervasi     767\n",
       "Name: Residents_numb, dtype: int64"
      ]
     },
     "execution_count": 40,
     "metadata": {},
     "output_type": "execute_result"
    }
   ],
   "source": [
    "chinatown.sort_values(ascending=False)"
   ]
  },
  {
   "cell_type": "markdown",
   "metadata": {},
   "source": [
    "<font color = blue>***Chinatown can be associated to Eixample district in Barcelona***</font>"
   ]
  },
  {
   "cell_type": "markdown",
   "metadata": {},
   "source": [
    "### Question 3: If you want to meet the love of your life, where should you go according to your sex preferences?"
   ]
  },
  {
   "cell_type": "code",
   "execution_count": 41,
   "metadata": {
    "scrolled": true
   },
   "outputs": [
    {
     "data": {
      "text/plain": [
       "Gender  District_Name\n",
       "Female  Eixample         125463\n",
       "        Sant Martí       112503\n",
       "Male    Eixample         109462\n",
       "        Sant Martí       103820\n",
       "Name: Residents_numb, dtype: int64"
      ]
     },
     "execution_count": 41,
     "metadata": {},
     "output_type": "execute_result"
    }
   ],
   "source": [
    "gender_prop = df_nat.groupby(['Gender','District_Name'])['Residents_numb'].sum().nlargest(4)\n",
    "gender_prop\n",
    "#crossing Gender and District with the amount of residents.\n",
    "#Getting the Top4"
   ]
  },
  {
   "cell_type": "code",
   "execution_count": 58,
   "metadata": {},
   "outputs": [
    {
     "data": {
      "text/plain": [
       "1636762"
      ]
     },
     "execution_count": 58,
     "metadata": {},
     "output_type": "execute_result"
    }
   ],
   "source": [
    "bcn_pop = data['Nombre'].sum()\n",
    "bcn_pop\n",
    "#number of people living in BCN according to our DB"
   ]
  },
  {
   "cell_type": "code",
   "execution_count": 70,
   "metadata": {},
   "outputs": [],
   "source": [
    "def percent(x, lst):\n",
    "    perc_lst = []\n",
    "    for i in lst:\n",
    "        perc_lst.append(i * 100 / x)\n",
    "    return perc_lst\n",
    "\n",
    "#define a function to get a percent out of a list and the sum of the list"
   ]
  },
  {
   "cell_type": "code",
   "execution_count": 100,
   "metadata": {},
   "outputs": [
    {
     "data": {
      "text/plain": [
       "[7.67, 6.87, 6.69, 6.34]"
      ]
     },
     "execution_count": 100,
     "metadata": {},
     "output_type": "execute_result"
    }
   ],
   "source": [
    "top_distr_lst = ('Eixample_Female', 'Sant Martí_Female', 'Eixample_Male', 'Sant Martí_Male')\n",
    "percent_distr_gender = list(percent(bcn_pop, gend_res_num))\n",
    "percent_distr_gender = [round(elem, 2) for elem in percent_distr_gender]\n",
    "percent_distr_gender\n",
    "#getting the percent of top4 districts by gender"
   ]
  },
  {
   "cell_type": "code",
   "execution_count": 112,
   "metadata": {},
   "outputs": [
    {
     "data": {
      "text/plain": [
       "{'Eixample_Female': 7.67,\n",
       " 'Sant Martí_Female': 6.87,\n",
       " 'Eixample_Male': 6.69,\n",
       " 'Sant Martí_Male': 6.34}"
      ]
     },
     "execution_count": 112,
     "metadata": {},
     "output_type": "execute_result"
    }
   ],
   "source": [
    "fancy_dict = dict(zip(top_distr_lst, percent_distr_gender))\n",
    "fancy_dict\n",
    "#percent comparing with whole BCN city"
   ]
  },
  {
   "cell_type": "code",
   "execution_count": 113,
   "metadata": {},
   "outputs": [
    {
     "data": {
      "text/plain": [
       "Gender  District_Name\n",
       "Female  Eixample         3124\n",
       "Male    Eixample         2773\n",
       "Female  Sant Martí       2192\n",
       "Male    Sant Martí       2013\n",
       "Name: Residents_numb, dtype: int64"
      ]
     },
     "execution_count": 113,
     "metadata": {},
     "output_type": "execute_result"
    }
   ],
   "source": [
    "nation_is_china = df_nat[df_nat['Nationality'] == 'China']\n",
    "gender_nat_prop = nation_is_china.groupby(['Gender','District_Name'])['Residents_numb'].sum().nlargest(4)\n",
    "gender_nat_prop\n",
    "#define a DataFrame only for Chinese\n",
    "#find where man/woman are mostly living"
   ]
  },
  {
   "cell_type": "code",
   "execution_count": 124,
   "metadata": {},
   "outputs": [
    {
     "data": {
      "text/plain": [
       "Gender\n",
       "Female    125463\n",
       "Male      109462\n",
       "Name: Residents_numb, dtype: int64"
      ]
     },
     "execution_count": 124,
     "metadata": {},
     "output_type": "execute_result"
    }
   ],
   "source": [
    "distr_is_Eixample = df_nat[df_nat['District_Name'] == 'Eixample']\n",
    "eixample_prop = distr_is_Eixample.groupby('Gender')['Residents_numb'].sum().nlargest(4)\n",
    "eixample_prop\n",
    "#define a DataFrame only for Eixample District\n",
    "#find how many man/woman are living in this district"
   ]
  },
  {
   "cell_type": "code",
   "execution_count": 125,
   "metadata": {},
   "outputs": [
    {
     "data": {
      "text/plain": [
       "{'man': 46.59, 'woman': 53.41}"
      ]
     },
     "execution_count": 125,
     "metadata": {},
     "output_type": "execute_result"
    }
   ],
   "source": [
    "total_ppl_eixample = 109462+125463\n",
    "man_woman = ['man', 'woman']\n",
    "lst_man_wman = [109462, 125463]\n",
    "percent_man = percent(total_ppl_eixample, lst_man_wman)\n",
    "percent_man_wman = [round(elem, 2) for elem in percent_man]\n",
    "\n",
    "fancy_dict_eix = dict(zip(man_woman, percent_man_wman))\n",
    "fancy_dict_eix\n",
    "#understanding the distribution of man/woman in l'Eixample"
   ]
  },
  {
   "cell_type": "code",
   "execution_count": 126,
   "metadata": {},
   "outputs": [
    {
     "data": {
      "text/plain": [
       "Gender\n",
       "Female    112503\n",
       "Male      103820\n",
       "Name: Residents_numb, dtype: int64"
      ]
     },
     "execution_count": 126,
     "metadata": {},
     "output_type": "execute_result"
    }
   ],
   "source": [
    "distr_is_StMarti = df_nat[df_nat['District_Name'] == 'Sant Martí']\n",
    "StMarti_prop = distr_is_StMarti.groupby('Gender')['Residents_numb'].sum().nlargest(4)\n",
    "StMarti_prop\n",
    "#define a DataFrame only for Sant Martí District\n",
    "#find how many man/woman are living in this district"
   ]
  },
  {
   "cell_type": "code",
   "execution_count": 129,
   "metadata": {},
   "outputs": [
    {
     "data": {
      "text/plain": [
       "{'man': 47.99, 'woman': 52.01}"
      ]
     },
     "execution_count": 129,
     "metadata": {},
     "output_type": "execute_result"
    }
   ],
   "source": [
    "total_ppl_StMarti = 103820+112503\n",
    "lst_man_wman_SM = [103820, 112503]\n",
    "percent_man_SM = percent(total_ppl_StMarti, lst_man_wman_SM)\n",
    "percent_man_wman_SM = [round(elem, 2) for elem in percent_man_SM]\n",
    "\n",
    "fancy_dict_SM = dict(zip(man_woman, percent_man_wman_SM))\n",
    "fancy_dict_SM\n",
    "#understanding the distribution of man/woman in Sant Martí"
   ]
  },
  {
   "cell_type": "markdown",
   "metadata": {},
   "source": [
    "<font color = blue>***We can conclude from the extracted Data that:***</font><br>\n",
    "<font color = red>***. If you fancy boys or girls, your districts are Eixample and Sant Martí<br>\n",
    "    . Girls are more common in those neighborhoods<br>\n",
    "    . If you are looking for Mr or Mss Right in China, Eixample and Sant Martí are still your neighborhoods<br>\n",
    "    . Those who like girls will be slightly more happy with those two districts***</font>"
   ]
  }
 ],
 "metadata": {
  "kernelspec": {
   "display_name": "Python 3",
   "language": "python",
   "name": "python3"
  },
  "language_info": {
   "codemirror_mode": {
    "name": "ipython",
    "version": 3
   },
   "file_extension": ".py",
   "mimetype": "text/x-python",
   "name": "python",
   "nbconvert_exporter": "python",
   "pygments_lexer": "ipython3",
   "version": "3.8.3"
  }
 },
 "nbformat": 4,
 "nbformat_minor": 4
}
